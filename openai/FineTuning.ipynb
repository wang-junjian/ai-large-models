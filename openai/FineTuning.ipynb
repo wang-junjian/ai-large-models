{
 "cells": [
  {
   "attachments": {},
   "cell_type": "markdown",
   "metadata": {},
   "source": [
    "# Fine Tuning"
   ]
  },
  {
   "attachments": {},
   "cell_type": "markdown",
   "metadata": {},
   "source": [
    "## 数据分析"
   ]
  },
  {
   "cell_type": "code",
   "execution_count": 4,
   "metadata": {},
   "outputs": [
    {
     "data": {
      "text/html": [
       "<div>\n",
       "<style scoped>\n",
       "    .dataframe tbody tr th:only-of-type {\n",
       "        vertical-align: middle;\n",
       "    }\n",
       "\n",
       "    .dataframe tbody tr th {\n",
       "        vertical-align: top;\n",
       "    }\n",
       "\n",
       "    .dataframe thead th {\n",
       "        text-align: right;\n",
       "    }\n",
       "</style>\n",
       "<table border=\"1\" class=\"dataframe\">\n",
       "  <thead>\n",
       "    <tr style=\"text-align: right;\">\n",
       "      <th></th>\n",
       "      <th>label</th>\n",
       "      <th>review</th>\n",
       "    </tr>\n",
       "  </thead>\n",
       "  <tbody>\n",
       "    <tr>\n",
       "      <th>0</th>\n",
       "      <td>1</td>\n",
       "      <td>很快，好吃，味道足，量大</td>\n",
       "    </tr>\n",
       "    <tr>\n",
       "      <th>1</th>\n",
       "      <td>1</td>\n",
       "      <td>没有送水没有送水没有送水</td>\n",
       "    </tr>\n",
       "    <tr>\n",
       "      <th>2</th>\n",
       "      <td>1</td>\n",
       "      <td>非常快，态度好。</td>\n",
       "    </tr>\n",
       "    <tr>\n",
       "      <th>3</th>\n",
       "      <td>1</td>\n",
       "      <td>方便，快捷，味道可口，快递给力</td>\n",
       "    </tr>\n",
       "    <tr>\n",
       "      <th>4</th>\n",
       "      <td>1</td>\n",
       "      <td>菜味道很棒！送餐很及时！</td>\n",
       "    </tr>\n",
       "  </tbody>\n",
       "</table>\n",
       "</div>"
      ],
      "text/plain": [
       "   label           review\n",
       "0      1     很快，好吃，味道足，量大\n",
       "1      1     没有送水没有送水没有送水\n",
       "2      1         非常快，态度好。\n",
       "3      1  方便，快捷，味道可口，快递给力\n",
       "4      1     菜味道很棒！送餐很及时！"
      ]
     },
     "execution_count": 4,
     "metadata": {},
     "output_type": "execute_result"
    }
   ],
   "source": [
    "import pandas as pd\n",
    "\n",
    "df = pd.read_csv('../data/texts/外卖评论/waimai_10k.csv')\n",
    "df.head()\n"
   ]
  },
  {
   "cell_type": "code",
   "execution_count": 5,
   "metadata": {},
   "outputs": [
    {
     "data": {
      "text/html": [
       "<div>\n",
       "<style scoped>\n",
       "    .dataframe tbody tr th:only-of-type {\n",
       "        vertical-align: middle;\n",
       "    }\n",
       "\n",
       "    .dataframe tbody tr th {\n",
       "        vertical-align: top;\n",
       "    }\n",
       "\n",
       "    .dataframe thead th {\n",
       "        text-align: right;\n",
       "    }\n",
       "</style>\n",
       "<table border=\"1\" class=\"dataframe\">\n",
       "  <thead>\n",
       "    <tr style=\"text-align: right;\">\n",
       "      <th></th>\n",
       "      <th>label</th>\n",
       "      <th>review</th>\n",
       "    </tr>\n",
       "  </thead>\n",
       "  <tbody>\n",
       "    <tr>\n",
       "      <th>11982</th>\n",
       "      <td>0</td>\n",
       "      <td>以前几乎天天吃，现在调料什么都不放，</td>\n",
       "    </tr>\n",
       "    <tr>\n",
       "      <th>11983</th>\n",
       "      <td>0</td>\n",
       "      <td>昨天订凉皮两份，什么调料都没有放，就放了点麻油，特别难吃，丢了一份，再也不想吃了</td>\n",
       "    </tr>\n",
       "    <tr>\n",
       "      <th>11984</th>\n",
       "      <td>0</td>\n",
       "      <td>凉皮太辣,吃不下都</td>\n",
       "    </tr>\n",
       "    <tr>\n",
       "      <th>11985</th>\n",
       "      <td>0</td>\n",
       "      <td>本来迟到了还自己点！！！</td>\n",
       "    </tr>\n",
       "    <tr>\n",
       "      <th>11986</th>\n",
       "      <td>0</td>\n",
       "      <td>肉夹馍不错，羊肉泡馍酱肉包很一般。凉面没想象中好吃。送餐倒是很快。</td>\n",
       "    </tr>\n",
       "  </tbody>\n",
       "</table>\n",
       "</div>"
      ],
      "text/plain": [
       "       label                                    review\n",
       "11982      0                        以前几乎天天吃，现在调料什么都不放，\n",
       "11983      0  昨天订凉皮两份，什么调料都没有放，就放了点麻油，特别难吃，丢了一份，再也不想吃了\n",
       "11984      0                                 凉皮太辣,吃不下都\n",
       "11985      0                              本来迟到了还自己点！！！\n",
       "11986      0         肉夹馍不错，羊肉泡馍酱肉包很一般。凉面没想象中好吃。送餐倒是很快。"
      ]
     },
     "execution_count": 5,
     "metadata": {},
     "output_type": "execute_result"
    }
   ],
   "source": [
    "df.tail()"
   ]
  },
  {
   "cell_type": "code",
   "execution_count": 128,
   "metadata": {},
   "outputs": [
    {
     "name": "stdout",
     "output_type": "stream",
     "text": [
      "外卖评论总数：11987，正面：4000，负面：7987\n"
     ]
    }
   ],
   "source": [
    "df_good = df[df.label == 1]\n",
    "df_bad = df[df.label == 0]\n",
    "print(f\"外卖评论总数：{len(df)}，正面：{len(df_good)}，负面：{len(df_bad)}\")"
   ]
  },
  {
   "attachments": {},
   "cell_type": "markdown",
   "metadata": {},
   "source": [
    "## 制作数据集"
   ]
  },
  {
   "attachments": {},
   "cell_type": "markdown",
   "metadata": {},
   "source": [
    "### 获得子集"
   ]
  },
  {
   "cell_type": "code",
   "execution_count": 129,
   "metadata": {},
   "outputs": [],
   "source": [
    "df_good_sample = df_good.sample(250)\n",
    "df_bad_sample = df_bad.sample(250)\n",
    "df_sample = pd.concat([df_good_sample, df_bad_sample])"
   ]
  },
  {
   "cell_type": "code",
   "execution_count": 153,
   "metadata": {},
   "outputs": [],
   "source": [
    "# 数据打乱\n",
    "df_sample = df_sample.sample(len(df_sample))\n",
    "\n",
    "# 索引重置\n",
    "df_sample = df_sample.reset_index(drop=True)"
   ]
  },
  {
   "attachments": {},
   "cell_type": "markdown",
   "metadata": {},
   "source": [
    "### 缓存 Embedding"
   ]
  },
  {
   "cell_type": "code",
   "execution_count": 214,
   "metadata": {},
   "outputs": [],
   "source": [
    "import openai\n",
    "from openai.embeddings_utils import cosine_similarity\n",
    "from tenacity import retry, wait_random_exponential, stop_after_attempt\n",
    "\n",
    "\n",
    "@retry(wait=wait_random_exponential(min=1, max=20), stop=stop_after_attempt(6))\n",
    "def get_embeddings(texts: list[str], model=\"text-embedding-ada-002\") -> list[list[float]]:\n",
    "    response = openai.Embedding.create(input=texts, model=model)\n",
    "    return [data[\"embedding\"] for data in response[\"data\"]]\n",
    "\n",
    "# 采用批量 100 条评论的方式，获取评论的 Embedding\n",
    "review_embeddings = []\n",
    "for i in range(0, len(df_sample), 100):\n",
    "    reviews = df_sample.review[i:i+100].to_list()\n",
    "    review_embeddings.extend(get_embeddings(reviews))\n",
    "\n",
    "df_sample[\"embedding\"] = review_embeddings\n",
    "df_sample.to_parquet('../data/texts/外卖评论/waimai_500.parquet')"
   ]
  },
  {
   "attachments": {},
   "cell_type": "markdown",
   "metadata": {},
   "source": [
    "### 加载本地数据集（包含 Embedding）"
   ]
  },
  {
   "cell_type": "code",
   "execution_count": 219,
   "metadata": {},
   "outputs": [
    {
     "data": {
      "text/html": [
       "<div>\n",
       "<style scoped>\n",
       "    .dataframe tbody tr th:only-of-type {\n",
       "        vertical-align: middle;\n",
       "    }\n",
       "\n",
       "    .dataframe tbody tr th {\n",
       "        vertical-align: top;\n",
       "    }\n",
       "\n",
       "    .dataframe thead th {\n",
       "        text-align: right;\n",
       "    }\n",
       "</style>\n",
       "<table border=\"1\" class=\"dataframe\">\n",
       "  <thead>\n",
       "    <tr style=\"text-align: right;\">\n",
       "      <th></th>\n",
       "      <th>label</th>\n",
       "      <th>review</th>\n",
       "      <th>embedding</th>\n",
       "    </tr>\n",
       "  </thead>\n",
       "  <tbody>\n",
       "    <tr>\n",
       "      <th>0</th>\n",
       "      <td>1</td>\n",
       "      <td>肘子卷饼肉很足。就是我口味重不够咸</td>\n",
       "      <td>[0.004734907764941454, -0.018601905554533005, ...</td>\n",
       "    </tr>\n",
       "    <tr>\n",
       "      <th>1</th>\n",
       "      <td>0</td>\n",
       "      <td>味道著實一般送到時候飯涼涼的</td>\n",
       "      <td>[0.014507911168038845, -0.014204224571585655, ...</td>\n",
       "    </tr>\n",
       "    <tr>\n",
       "      <th>2</th>\n",
       "      <td>1</td>\n",
       "      <td>味道都很好，就是终于饭点送餐慢</td>\n",
       "      <td>[0.010158994235098362, -0.017008569091558456, ...</td>\n",
       "    </tr>\n",
       "    <tr>\n",
       "      <th>3</th>\n",
       "      <td>1</td>\n",
       "      <td>物有所值，很给力</td>\n",
       "      <td>[-0.02119990438222885, -0.026337601244449615, ...</td>\n",
       "    </tr>\n",
       "    <tr>\n",
       "      <th>4</th>\n",
       "      <td>0</td>\n",
       "      <td>送达个屁啊！我这还没吃上呢，系统就显示已送达！！！我只能说这个软件是神马玩意啊！！！！</td>\n",
       "      <td>[-0.009312949143350124, -0.022111525759100914,...</td>\n",
       "    </tr>\n",
       "  </tbody>\n",
       "</table>\n",
       "</div>"
      ],
      "text/plain": [
       "   label                                       review   \n",
       "0      1                            肘子卷饼肉很足。就是我口味重不够咸  \\\n",
       "1      0                               味道著實一般送到時候飯涼涼的   \n",
       "2      1                              味道都很好，就是终于饭点送餐慢   \n",
       "3      1                                     物有所值，很给力   \n",
       "4      0  送达个屁啊！我这还没吃上呢，系统就显示已送达！！！我只能说这个软件是神马玩意啊！！！！   \n",
       "\n",
       "                                           embedding  \n",
       "0  [0.004734907764941454, -0.018601905554533005, ...  \n",
       "1  [0.014507911168038845, -0.014204224571585655, ...  \n",
       "2  [0.010158994235098362, -0.017008569091558456, ...  \n",
       "3  [-0.02119990438222885, -0.026337601244449615, ...  \n",
       "4  [-0.009312949143350124, -0.022111525759100914,...  "
      ]
     },
     "execution_count": 219,
     "metadata": {},
     "output_type": "execute_result"
    }
   ],
   "source": [
    "df_sample = pd.read_parquet('../data/texts/外卖评论/waimai_500.parquet')\n",
    "df_sample.head()"
   ]
  },
  {
   "cell_type": "code",
   "execution_count": 220,
   "metadata": {},
   "outputs": [
    {
     "name": "stdout",
     "output_type": "stream",
     "text": [
      "训练集1：300，训练集2：100，测试集：100\n"
     ]
    }
   ],
   "source": [
    "# 分割训练集和测试集\n",
    "df_train1, df_train2, df_test = df_sample.iloc[:300], df_sample.iloc[300:400], df_sample.iloc[400:]\n",
    "print(f\"训练集1：{len(df_train1)}，训练集2：{len(df_train2)}，测试集：{len(df_test)}\")\n"
   ]
  },
  {
   "attachments": {},
   "cell_type": "markdown",
   "metadata": {},
   "source": [
    "## 查看使用 Embedding 计算的分类结果"
   ]
  },
  {
   "cell_type": "code",
   "execution_count": 173,
   "metadata": {},
   "outputs": [],
   "source": [
    "# 余弦相似度计算\n",
    "def get_score(embedding, class_embeddings):\n",
    "  good_embedding, bad_embedding = class_embeddings\n",
    "  return cosine_similarity(embedding, good_embedding) - cosine_similarity(embedding, bad_embedding)"
   ]
  },
  {
   "cell_type": "code",
   "execution_count": 175,
   "metadata": {},
   "outputs": [],
   "source": [
    "good_bad_embeddings_en = get_embeddings([\"good\", \"bad\"])\n",
    "good_bad_embeddings_zh = get_embeddings([\"好\", \"坏\"])"
   ]
  },
  {
   "cell_type": "code",
   "execution_count": 223,
   "metadata": {},
   "outputs": [
    {
     "name": "stdout",
     "output_type": "stream",
     "text": [
      "1 味道著實一般送到時候飯涼涼的 0.03305286968647281 0\n",
      "4 送达个屁啊！我这还没吃上呢，系统就显示已送达！！！我只能说这个软件是神马玩意啊！！！！ 0.0160585019109013 0\n",
      "7 量够，味道还行，包装不错 0.05374665368202858 0\n",
      "11 小黄鱼贴饼子根本不是贴饼子，，炸窝头！都黑了！什么玩意！糊弄人呢！！！ -0.003980839681130721 1\n",
      "12 晚了45分钟，套餐有半个卤蛋，但是没有饮料；,肥牛饭味道比较一般，但量很足（ps,配菜是豆芽菜，个人最不喜欢豆芽菜,赶上了……） 0.008583377161884842 0\n",
      "16 菜也太少太少了吧，感觉跟别人吃剩了扒拉给我的一样 0.00965415256280533 0\n",
      "17 这馅料的量，我只有呵呵了 0.016350143485567292 0\n",
      "18 送的太慢了1个半小时 0.0001338335638244592 0\n",
      "20 分量很小,,拌饭还是凉的 0.008598353013520632 0\n",
      "24 挺好哒。米饭很足。很容易饱。 0.04877359574426765 0\n",
      "25 饼粘糊糊的,里面的还行 0.023990130610683003 0\n",
      "36 送的倒是挺快的，只是汉堡做那么小好意思吗？ 0.02059649931321017 0\n",
      "42 鸡肉不好吃，多弄点肘子，不多说 -0.0015058422395071158 1\n",
      "56 星巴克永远洒半杯，下次收半价行嘛？ 0.0030364002978980897 0\n",
      "59 就薯条还行！其他都不怎么样！ 0.03051034327741764 0\n",
      "60 外卖餐盒还要钱不合理，而且餐盒很贵，几分钱的餐盒要一块一个 0.0039596649088344815 0\n",
      "68 晕了都，让12点送过来，你这10.50多就送过来了，让我情何以堪 0.014872632326197843 0\n",
      "76 我要的是冰咖啡，给我送来热的 0.020295307277199526 0\n",
      "84 泡菜炒饭，少了芝士啊！ 0.00018283260830653791 0\n",
      "95 大过年的啥也不说了，18点10分下单，20点20送到家，1公里多的路，菜全都冰凉，羊棒骨不给吸管怎么吃？以后再也不叫他家外卖！！ 0.008092932388680474 0\n",
      "105 总体还好了，就是油太大… 0.01970305972227626 0\n",
      "110 真心服了…少送一份…说装的时候少给了…送餐员不核对吗？补送还没到…我们已经上班了！！！ 0.006109574756043679 0\n",
      "112 定的餐撒的哪里都是汤和油，看的都没食欲了，不知道从哪打开好，处理油渍用了姐半卷纸，我也是醉了。 0.0017965588659955012 0\n",
      "118 等了两个半小时，等哭了。 0.015939907179780444 0\n",
      "129 连续订了好多次,每次都晚送半个多小时,每次说完,下次还是晚送,以后不定了 0.001607421574884249 0\n",
      "133 等了五十分钟，受不了的龟速 0.0049899362983574225 0\n",
      "134 螺蛳粉还是不错的，绿豆沙也很好喝，但是这送餐速度也太让人无语了吧，不说自己不认识路，还怪我们把地址写错，气人！ 0.01709181385682057 0\n",
      "135 拌饭酱放的太多。难吃。建议这个酱可以做出小包装，客人自己加放。 0.002527530768893116 0\n",
      "142 可乐洒了不说，买的猪蹄倒着放，里面汤全洒出来了，他妈的 0.002487510542605431 0\n",
      "143 等了两小时，送到后，关东煮汤都撒没了 0.0008400447022681723 0\n",
      "145 速度很慢，我今天打电话催的时候，那边态度很差，我说那明天不点了。她说“可以”，电话撂了。 0.0007303530681503911 0\n",
      "147 预计最晚两点十分送到,收货时间两点五十五分,咖啡已经变成凉的 0.007239204793182852 0\n",
      "152 太咸了。。。 0.002897921940016035 0\n",
      "160 速度很慢,菜品一般,蛏子走的有点味道 0.006979979643608081 0\n",
      "162 这个不好吃,吃的好难过 -0.012484931468273675 1\n",
      "164 送餐员态度很好，唯一不足是送餐时间较长 0.021073313305990604 0\n",
      "169 送餐挺快，但是不好吃，菜很少，全靠饭撑着，宁可不要那个装B的牛皮纸袋，菜多一点 0.010340979200856415 0\n",
      "180 小炒肉还可以，担担面太失败了，又油又辣面也化了，果仁菠菜的花生好吃，菠菜都不新鲜了，不知道是不是被醋泡的。速度一般吧。 0.014903025184922036 0\n",
      "183 11点半订餐，2小时才送到 0.005378210695123897 0\n",
      "186 时间太久，等了2小时了 0.005750358883087281 0\n",
      "188 给了半盒子海带,不是人吃的东西 0.004284907562576934 0\n",
      "205 一份12个。 0.0023372862544353 0\n",
      "207 当时我们点的饭跟汤送达时都已经凉了，其他还好，就是送的时间长。 0.01400247343531813 0\n",
      "209 点的牛肉蔬菜,拿回来一看是京酱肉丝……至少解释一下啊,菜还不错 0.028282041998210272 0\n",
      "212 杯子坏了,不过饮料没出来,其他都可以 -0.009564524904653537 1\n",
      "215 等了快两个半小时，商家各种不接电话， 0.0055547105876998515 0\n",
      "223 米饭是有味儿了的………没法吃……扔掉了……… 0.009425792835588864 0\n",
      "227 太慢了。下次能不能快一些，等了近两个小时 0.005987041091498613 0\n",
      "232 味道还好，送餐速度满了点，应该增加配送人员 0.042794629312967514 0\n",
      "237 没吸管！快递很好！奶油是后挖出去的特别墨迹！备注强调过了 0.014065341462304426 0\n",
      "244 还是有点吃不惯意面 0.002006947255976832 0\n",
      "248 一份炖肉卖20，小的亮瞎眼 0.010782273100121031 0\n",
      "250 昨天订单付款，两次都一样，感觉牛肉有些问题，挺饿了，后面那个就吃了，晚上闹肚子，晦气 0.002554987271762621 0\n",
      "251 味道什么的还不错，不过比预定的时间完了1个半小时左右吧，饿的有点胃疼…… 0.02256511773637515 0\n",
      "255 菜品质量不错，但是送餐速度太慢了，一个小时才送到，肚子都饿扁了 0.004284812180739728 0\n",
      "256 再也不点了～ 0.005480387092618666 0\n",
      "265 辣白菜太酸，卷饼辣椒直接卷进去，味道一般，南瓜粥比较适合口味，下次不再点了 0.0031907818949996614 0\n",
      "266 不能难吃更多 0.018392802040014256 0\n",
      "275 我就不明白了~备注里写的清清楚楚~是不认识字~还是不放辣椒不会做？就吃了一口就给家里老人辣着了~妈的~脑残么 0.014495468494193697 0\n",
      "276 3块钱的米饭不满四分之一盒,还是陈米做的,想钱想疯了吧,其他菜无力吐槽 0.00426281760885161 0\n",
      "279 牛肉的筋太多，味道还行，不过价格摆在这里，挺公道的了 0.0224815006502469 0\n",
      "281 因为电话没打通就回去了，我也是挺无语的。怎么那么多送外卖人家都没打电话直接送过来啊。电话没打通跟家里没人不是一个性质吧。 0.0018826324533662842 0\n",
      "292 这个小炒肉不好吃，我吃过的他家最难吃的菜之一 -0.01676682582405198 1\n",
      "293 12点50订的餐，14点50送到。披萨凉的透透的，怎么吃啊？ 0.015521129301940495 0\n",
      "296 饭菜还不错，但是我TM,11:00订的餐、13:00才送到、海龙到中技有多远自己掂量吧。 0.01683700054130499 0\n",
      "298 送餐超快，但是超难吃。。。 0.0011395224393727643 0\n",
      "301 味道稍微咸点！整体不错！ 0.03192704862564588 0\n",
      "308 味道不能忍,这他妈的是人吃的东西么 0.006653716241108776 0\n",
      "313 速度快，态度好 0.03959668981624387 0\n",
      "320 茄丁还不错，毛血旺不是很新鲜，拉了好几天肚子。 0.01966897630842379 0\n",
      "321 天气这么不好的情况下点外卖实在对不住外卖小哥,辛苦啦 -0.0020000812288907266 1\n",
      "325 真是奇葩宇宙卷饼外送服务。说下这家的感受，一共点过三次此家的外卖。第一次点，早上十点半不到下单，下午两点硬是没吃上饭，期间催单无数次，打电话要么不通要么通了就说送餐员一直在路上马上送到，愣是被忽悠一大中午，无语。无奈只好把当天体验在评价里留言给予差评，结果晚上下班接到店家的电话，各种不容易，服务没做好等等道歉，OK咱们也不是蛮不讲理之人，创业做生意谁都不容易，也许当天真是店里忙不过来，你让我把差评删除没问题，也希望能有所改进。第二次点餐服务还是不错的，送餐只用了50分钟而且产品的包装和配送人员都不错.,第三次点餐，也就是今天，早上10:09下单，送餐员中午1:08拿着餐急急火火的进门，一句道歉的话没说，我问了句“你家怎么送餐这么慢，都三个小时了”，送餐小哥一脸不愿意的说中午就是这么忙，那还要不要？遂忿忿离去。我去真牛，感情你送餐晚，送不到怪我喽？送的慢你不知道提前电话沟通下吗，不打电话问你们，就装着没事人一样。得了，对这家也不抱什么希望了，宇宙卷饼就是这么霸气！ 0.0005390224135811694 0\n",
      "326 每次都不把送餐费用打到发票总金额里，下次再这样，只按照发票金额付费了。 0.01809259555154341 0\n",
      "328 宿舍信号不好，耽误了你的时间 -0.013649915558127335 1\n",
      "336 买了20块够起送价的东西，结果打电话过来说，到我这位置20送不了，得35，又临时坐地起价让我加东西，没办法就加了，东西送到了，汤一看就知道加了好多水，沙拉有股味道，炸鸡还可以。 0.007656514105788048 0\n",
      "338 卷饼味道很一般很一般，不好吃，但是便宜 0.003067831093331419 0\n",
      "339 点个套餐给2个可乐，我的豆腐脑呢是在逗我吗 0.017276809363481416 0\n",
      "343 本来想给一颗星的，但是看在pizza挺好吃的份上，给两颗星了。需要说的额是，送餐慢了30分钟左右，这还能忍，不能忍的是，现在活动期有三种住方式，我选的是在线支付。和折扣率最高的百度钱包貌似出票方式不同，不知道是餐厅和送餐员说的还是送餐员自己理解的，居然说我还未支付。如果不是支付宝有扣款短信，我估计还真以为我未支付的，傻不愣登的再交一分钱。。。最后夸下，她家pizza味道不错。有耐心的人值得购买。。。 0.018483754767486538 0\n",
      "345 等了快两个小时，拿到的时候已经凉透了 0.017018972107250674 0\n",
      "346 酸味还行，量也不错！！送太久了，都凉了。 0.0363329079388679 0\n",
      "352 这菜我也是醉了！不管是订的还是送的！难吃到这样~我也是头一次见 0.003404248647127739 0\n",
      "356 流沙包很好吃，蔬菜粥里在放些蔬菜就更好了 0.029171870157139068 0\n",
      "358 味道很不错，下次继续光临 0.04364513546204363 0\n",
      "360 菜好吃，分量也很好。美中不足的是米饭太硬，口感影响了整体评价。 0.028693083290937227 0\n",
      "361 盒子好像倒了，饭撒了…… 0.0009794542596113232 0\n",
      "362 不很好吃，微辣就是一点都不辣 -0.0062391400341920145 1\n",
      "368 还差三分钟就可以半价了,真是太慢了 0.002699266137281553 0\n",
      "371 我的妈呀速度太慢了吧拜托下次找一个能找到地方的谢谢 0.009308015576518391 0\n",
      "377 太慢了，等了一个半小时 0.01005709792038556 0\n",
      "378 一般吧，有点偏咸口 0.01990882223399293 0\n",
      "384 摩卡做的不能再差了，我不知我喝的是摩卡还是稀释的热巧！咖啡，巧克力，奶油，奶泡的比例完全不对。 0.005490942026012302 0\n",
      "387 請不要服務質量不一致，有時是熱的三明治，有時是冷的三明治，不要再欺騙消費者了，星巴克這種高格調的咖啡店，都被你們做爛了 0.0068742304241794505 0\n",
      "394 都太难吃了,豆浆并不是现磨的,一吃就很明显是仿料包的那种,凉面的量少的吓人又很咸只够铺层碗底 0.006819961567946176 0\n",
      "396 送了两天了不知道你们把餐送到哪里了，我都没有收到就交易完成？你们还真是会意淫的，小伙子你很有前途吗 0.010757171102043106 0\n",
      "410 太甜了觉得 0.009977582558401643 0\n",
      "412 慢就一个字，最好提前两天点餐。当天点的是不要奢望能当天送达的！ 0.011653064731051765 0\n",
      "414 宫保鸡丁一般般 0.017102201683877882 0\n",
      "420 肥肉多，汤凉了，送餐的说我没支付... 0.002023454045994133 0\n",
      "429 味道还可以,不过送餐的时间好长 0.01979618691809104 0\n",
      "430 100分钟！！等死了 0.005070799726522468 0\n",
      "433 就几条肉丝，全是土豆丝，而且有些没熟 0.004452102592258811 0\n",
      "438 菜品都不错，就是配送员就跟一……似得，一个多小时才送来一看就是个新手！特别恼怒，比上次那个配送员慢了接近一小时！我就不说别的了！ 0.004935676085434992 0\n",
      "439 真难吃，哪有五花肉啊?光是白菜和萝卜丝，这东西还好意思拿出来卖 0.00718848523819926 0\n",
      "445 量少到想哭 0.006936260373381464 0\n",
      "448 魚香油太多，有點不好收拾 -0.007927313415241222 1\n",
      "452 配送费越来越贵！！！！ -0.01333732318815728 1\n",
      "455 什么都不想说2小时的送餐时间很牛逼是么,，2小时我能绕北京一圈了,外卖人们就图个快图个省事,你到好,2小时送餐,不能开就关门吧,……谢谢,你的饭吃的已经完全没有胃口了…… 0.0066701508336913795 0\n",
      "458 味道还可以,送餐速度超级快 0.03371011953646985 0\n",
      "459 送餐晚到半小时不说，还给弄翻一道菜，菜汤弄的哪都是，真是无语了。 0.0028733462172783053 0\n",
      "466 2分12元的菜一点点，9元的就就是易拉罐 0.01825687027367051 0\n",
      "475 卷饼味道有点淡，肘子瘦肉有点多，太有嚼劲 0.02074100409705537 0\n",
      "478 呵呵,，,真可以，之前感觉您家特别实惠。没想到这次缩水到这种程度！！！一共就这么几块肉！ 0.031797872536932004 0\n",
      "480 忍无可忍，在中国电子大厦送这么久 0.009054833737748513 0\n",
      "481 原来一直用的百度糯米下单没评价功能，今天下了个专用客户端，把评价补上。这个确实不咋好吃 -0.0019172303148783376 1\n",
      "491 上次比较快，味道不错，没想到这次很慢，下次快点 0.024493525162475382 0\n",
      "493 菜什么的是挺好吃的,但是10点20订的餐,12点40多到,伤不起,已经好几次这样了,忍无可忍了 0.011932326401589366 0\n",
      "495 送餐太慢了12点29点的餐，预计13点16送到。14点才收到。等了90多分钟。和合谷是快餐又不是现做怎么这么慢呀。而且这个店距离我家也不远撑死了最慢30分钟也就到了。中途我给店里打电话他们一直就是快了10分钟就到。我都等了多少个10分钟了！！！不能因为我把钱已经支付了就这样慢吧。希望有个可以监督的制度，这样能很好的督促店家。 0.008820061638357801 0\n",
      "497 速度太慢,不要了 0.0020467456218118407 0\n",
      "错误数: 118，错误率：23.60%\n"
     ]
    }
   ],
   "source": [
    "error_count = 0\n",
    "for i, review_embedding in enumerate(review_embeddings):\n",
    "    score = get_score(review_embedding, good_bad_embeddings_en)\n",
    "    if not (score > 0 and df_sample.label[i] == 1 or score < 0 and df_sample.label[i] == 0):\n",
    "        print(i, df_sample.review[i], score, df_sample.label[i])\n",
    "        error_count += 1\n",
    "\n",
    "print(f\"错误数: {error_count}，错误率：{error_count / len(review_embeddings) * 100:.2f}%\")"
   ]
  },
  {
   "attachments": {},
   "cell_type": "markdown",
   "metadata": {},
   "source": [
    "## 微调模型"
   ]
  },
  {
   "attachments": {},
   "cell_type": "markdown",
   "metadata": {},
   "source": [
    "### 准备数据集"
   ]
  },
  {
   "cell_type": "code",
   "execution_count": 230,
   "metadata": {},
   "outputs": [
    {
     "data": {
      "text/html": [
       "<div>\n",
       "<style scoped>\n",
       "    .dataframe tbody tr th:only-of-type {\n",
       "        vertical-align: middle;\n",
       "    }\n",
       "\n",
       "    .dataframe tbody tr th {\n",
       "        vertical-align: top;\n",
       "    }\n",
       "\n",
       "    .dataframe thead th {\n",
       "        text-align: right;\n",
       "    }\n",
       "</style>\n",
       "<table border=\"1\" class=\"dataframe\">\n",
       "  <thead>\n",
       "    <tr style=\"text-align: right;\">\n",
       "      <th></th>\n",
       "      <th>prompt</th>\n",
       "      <th>completion</th>\n",
       "    </tr>\n",
       "  </thead>\n",
       "  <tbody>\n",
       "    <tr>\n",
       "      <th>0</th>\n",
       "      <td>肘子卷饼肉很足。就是我口味重不够咸</td>\n",
       "      <td>good</td>\n",
       "    </tr>\n",
       "    <tr>\n",
       "      <th>1</th>\n",
       "      <td>味道著實一般送到時候飯涼涼的</td>\n",
       "      <td>bad</td>\n",
       "    </tr>\n",
       "    <tr>\n",
       "      <th>2</th>\n",
       "      <td>味道都很好，就是终于饭点送餐慢</td>\n",
       "      <td>good</td>\n",
       "    </tr>\n",
       "    <tr>\n",
       "      <th>3</th>\n",
       "      <td>物有所值，很给力</td>\n",
       "      <td>good</td>\n",
       "    </tr>\n",
       "    <tr>\n",
       "      <th>4</th>\n",
       "      <td>送达个屁啊！我这还没吃上呢，系统就显示已送达！！！我只能说这个软件是神马玩意啊！！！！</td>\n",
       "      <td>bad</td>\n",
       "    </tr>\n",
       "  </tbody>\n",
       "</table>\n",
       "</div>"
      ],
      "text/plain": [
       "                                        prompt completion\n",
       "0                            肘子卷饼肉很足。就是我口味重不够咸       good\n",
       "1                               味道著實一般送到時候飯涼涼的        bad\n",
       "2                              味道都很好，就是终于饭点送餐慢       good\n",
       "3                                     物有所值，很给力       good\n",
       "4  送达个屁啊！我这还没吃上呢，系统就显示已送达！！！我只能说这个软件是神马玩意啊！！！！        bad"
      ]
     },
     "execution_count": 230,
     "metadata": {},
     "output_type": "execute_result"
    }
   ],
   "source": [
    "texts = df_sample.review.to_list()\n",
    "labels = df_sample.label.apply(lambda x: \"good\" if x == 1 else \"bad\").to_list()\n",
    "\n",
    "df = pd.DataFrame({\"prompt\": texts, \"completion\": labels})\n",
    "df.head()"
   ]
  },
  {
   "cell_type": "code",
   "execution_count": 234,
   "metadata": {},
   "outputs": [],
   "source": [
    "df.to_json(\"../data/texts/外卖评论/waimai_500.jsonl\", orient='records', lines=True)\n"
   ]
  },
  {
   "cell_type": "code",
   "execution_count": 235,
   "metadata": {},
   "outputs": [
    {
     "name": "stdout",
     "output_type": "stream",
     "text": [
      "Analyzing...\n",
      "\n",
      "- Your file contains 500 prompt-completion pairs\n",
      "- Based on your data it seems like you're trying to fine-tune a model for classification\n",
      "- For classification, we recommend you try one of the faster and cheaper models, such as `ada`\n",
      "- For classification, you can estimate the expected model performance by keeping a held out dataset, which is not used for training\n",
      "- More than a third of your `prompt` column/key is uppercase. Uppercase prompts tends to perform worse than a mixture of case encountered in normal language. We recommend to lower case the data if that makes sense in your domain. See https://platform.openai.com/docs/guides/fine-tuning/preparing-your-dataset for more details\n",
      "- Your data does not contain a common separator at the end of your prompts. Having a separator string appended to the end of the prompt makes it clearer to the fine-tuned model where the completion should begin. See https://platform.openai.com/docs/guides/fine-tuning/preparing-your-dataset for more detail and examples. If you intend to do open-ended generation, then you should leave the prompts empty\n",
      "- The completion should start with a whitespace character (` `). This tends to produce better results due to the tokenization we use. See https://platform.openai.com/docs/guides/fine-tuning/preparing-your-dataset for more details\n",
      "\n",
      "Based on the analysis we will perform the following actions:\n",
      "- [Recommended] Lowercase all your data in column/key `prompt` [Y/n]: Y\n",
      "- [Recommended] Add a suffix separator ` ->` to all prompts [Y/n]: Y\n",
      "- [Recommended] Add a whitespace character to the beginning of the completion [Y/n]: Y\n",
      "- [Recommended] Would you like to split into training and validation set? [Y/n]: Y\n",
      "\n",
      "\n",
      "Your data will be written to a new JSONL file. Proceed [Y/n]: Y\n",
      "\n",
      "Wrote modified files to `../data/texts/外卖评论/waimai_500_prepared_train.jsonl` and `../data/texts/外卖评论/waimai_500_prepared_valid.jsonl`\n",
      "Feel free to take a look!\n",
      "\n",
      "Now use that file when fine-tuning:\n",
      "> openai api fine_tunes.create -t \"../data/texts/外卖评论/waimai_500_prepared_train.jsonl\" -v \"../data/texts/外卖评论/waimai_500_prepared_valid.jsonl\" --compute_classification_metrics --classification_positive_class \" good\"\n",
      "\n",
      "After you’ve fine-tuned a model, remember that your prompt has to end with the indicator string ` ->` for the model to start generating completions, rather than continuing with the prompt. Make sure to include `stop=[\"d\"]` so that the generated texts ends at the expected place.\n",
      "Once your model starts training, it'll approximately take 14.33 minutes to train a `curie` model, and less for `ada` and `babbage`. Queue will approximately take half an hour per job ahead of you.\n"
     ]
    }
   ],
   "source": [
    "!openai tools fine_tunes.prepare_data -f ../data/texts/外卖评论/waimai_500.jsonl -q"
   ]
  },
  {
   "attachments": {},
   "cell_type": "markdown",
   "metadata": {},
   "source": [
    "### 手动整理出了 5 个jsonl 文件。\n",
    "* ../data/texts/外卖评论/waimai_500_prepared_1_train.jsonl  第一次训练的数据集\n",
    "* ../data/texts/外卖评论/waimai_500_prepared_1_valid.jsonl  第一次验证的数据集\n",
    "* ../data/texts/外卖评论/waimai_500_prepared_2_train.jsonl  第二次训练的增量数据集\n",
    "* ../data/texts/外卖评论/waimai_500_prepared_2_valid.jsonl  第二次验证的增量数据集\n",
    "* ../data/texts/外卖评论/waimai_500_prepared_test.jsonl     测试数据集"
   ]
  },
  {
   "attachments": {},
   "cell_type": "markdown",
   "metadata": {},
   "source": [
    "### 创建微调模型"
   ]
  },
  {
   "cell_type": "code",
   "execution_count": null,
   "metadata": {},
   "outputs": [],
   "source": [
    "# For binary classification\n",
    "!openai api fine_tunes.create \\\n",
    "  -t ../data/texts/外卖评论/waimai_500_prepared_1_train.jsonl \\\n",
    "  -v ../data/texts/外卖评论/waimai_500_prepared_1_valid.jsonl \\\n",
    "  -m ada \\\n",
    "  --compute_classification_metrics \\\n",
    "  --classification_n_classes 2 \\\n",
    "  --classification_positive_class \" good\""
   ]
  }
 ],
 "metadata": {
  "kernelspec": {
   "display_name": "ai-large-models",
   "language": "python",
   "name": "python3"
  },
  "language_info": {
   "codemirror_mode": {
    "name": "ipython",
    "version": 3
   },
   "file_extension": ".py",
   "mimetype": "text/x-python",
   "name": "python",
   "nbconvert_exporter": "python",
   "pygments_lexer": "ipython3",
   "version": "3.10.9"
  },
  "orig_nbformat": 4
 },
 "nbformat": 4,
 "nbformat_minor": 2
}
