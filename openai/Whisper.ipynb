{
 "cells": [
  {
   "attachments": {},
   "cell_type": "markdown",
   "metadata": {},
   "source": [
    "# Whisper 语音识别"
   ]
  },
  {
   "attachments": {},
   "cell_type": "markdown",
   "metadata": {},
   "source": [
    "## 安装"
   ]
  },
  {
   "cell_type": "code",
   "execution_count": null,
   "metadata": {},
   "outputs": [],
   "source": [
    "!pip install -U openai"
   ]
  },
  {
   "attachments": {},
   "cell_type": "markdown",
   "metadata": {},
   "source": [
    "## 功能\n",
    "* 将音频转录成音频所使用的任何语言。\n",
    "* 将音频翻译并转录成英文。\n",
    "\n",
    "文件上传目前限制为 25 MB，并且支持以下输入文件类型：mp3, mp4, mpeg, mpga, m4a, wav, and webm."
   ]
  },
  {
   "attachments": {},
   "cell_type": "markdown",
   "metadata": {},
   "source": [
    "## 测试\n",
    "### 语音文件：data/audios/test.m4a\n",
    "### 语音内容：\n",
    "Mira Murati 是一位对人工智能技术充满热情的科技领袖，她的理念和影响对人工智能技术的发展和应用产生了深远的影响。\n",
    "\n",
    "她认为人工智能技术应该是以人为本的，强调人工智能技术应该是一种能够服务于人类的工具，而不是取代人类的工具。\n",
    "\n",
    "她指出，人工智能技术的最终目的是为人类服务，因此人工智能技术应该以人类的利益和需求为中心，以解决人类面临的实际问题。人工智能技术的应用需要深入了解人类社会的需要和价值，将其应用到真正有意义的领域中。"
   ]
  },
  {
   "cell_type": "code",
   "execution_count": 2,
   "metadata": {},
   "outputs": [
    {
     "name": "stdout",
     "output_type": "stream",
     "text": [
      "Miramurati是一位对人工智能技术充满热情的科技领袖 他的理念和影响对人工智能技术的发展和应用产生了深远的影响 他认为人工智能技术应该是以人为本的 强调人工智能技术应该是一种能够服务于人类的工具 而不是取代人类的工具 他指出人工智能技术的最终目的是为人类服务 因此人工智能技术应该以人类的利益和需求为中心 以解决人类面临的实际问题 人工智能技术的应用需要深入了解人类社会的需要和价值 将其应用到真正有意义的领域中\n"
     ]
    }
   ],
   "source": [
    "import openai\n",
    "audio_file= open(\"../data/audios/test.m4a\", \"rb\")\n",
    "transcript = openai.Audio.transcribe(\"whisper-1\", audio_file)\n",
    "print(transcript[\"text\"])"
   ]
  },
  {
   "attachments": {},
   "cell_type": "markdown",
   "metadata": {},
   "source": [
    "👍 可以看到转换的非常准确，但是缺少了标点符号，英文名字也有一点小小的问题。"
   ]
  },
  {
   "cell_type": "code",
   "execution_count": 4,
   "metadata": {},
   "outputs": [
    {
     "name": "stdout",
     "output_type": "stream",
     "text": [
      "Mira Murati是一位对人工智能技术充满热情的科技领袖。 她的理念和影响对人工智能技术的发展和应用产生了深远的影响。 她认为人工智能技术应该是以人为本的, 强调人工智能技术应该是一种能够服务于人类的工具, 而不是取代人类的工具。 她指出,人工智能技术的最终目的是为人类服务, 因此人工智能技术应该以人类的利益和需求为中心, 以解决人类面临的实际问题。 人工智能技术的应用需要深入了解人类社会的需要和价值, 将其应用到真正有意义的领域中。\n"
     ]
    }
   ],
   "source": [
    "import openai\n",
    "audio_file= open(\"../data/audios/test.m4a\", \"rb\")\n",
    "transcript = openai.Audio.transcribe(\"whisper-1\", audio_file,\n",
    "                                     prompt=\"欢迎收听 Mira Murati 的理念与影响的讲座。\")\n",
    "print(transcript[\"text\"])"
   ]
  },
  {
   "attachments": {},
   "cell_type": "markdown",
   "metadata": {},
   "source": [
    "中英文混排有时候喜欢中文和英文之间加上空格，我们可以通过提示来解决这个问题。"
   ]
  },
  {
   "cell_type": "code",
   "execution_count": 6,
   "metadata": {},
   "outputs": [
    {
     "name": "stdout",
     "output_type": "stream",
     "text": [
      "Mira Murati 是一位对人工智能技术充满热情的科技领袖。 她的理念和影响对人工智能技术的发展和应用产生了深远的影响。 她认为人工智能技术应该是以人为本的。 强调人工智能技术应该是一种能够服务于人类的工具, 而不是取代人类的工具。 她指出,人工智能技术的最终目的是为人类服务, 因此人工智能技术应该以人类的利益和需求为中心, 以解决人类面临的实际问题。 人工智能技术的应用需要深入了解人类社会的需要和价值, 将其应用到真正有意义的领域中。\n"
     ]
    }
   ],
   "source": [
    "import openai\n",
    "audio_file= open(\"../data/audios/test.m4a\", \"rb\")\n",
    "transcript = openai.Audio.transcribe(\"whisper-1\", audio_file,\n",
    "                                     prompt=\"欢迎收听 Mira Murati 的理念与影响的讲座。\")\n",
    "print(transcript[\"text\"])"
   ]
  },
  {
   "attachments": {},
   "cell_type": "markdown",
   "metadata": {},
   "source": [
    "这里还有个小问题，每个标点符号后面都有一个空格。这个小问题不好解决啊。"
   ]
  },
  {
   "cell_type": "code",
   "execution_count": 7,
   "metadata": {},
   "outputs": [
    {
     "name": "stdout",
     "output_type": "stream",
     "text": [
      "Mira Murati 是一位对人工智能技术充满热情的科技领袖。 她的理念和影响对人工智能技术的发展和应用产生了深远的影响。 她认为人工智能技术应该是以人为本的, 强调人工智能技术应该是一种能够服务于人类的工具, 而不是取代人类的工具。 她指出,人工智能技术的最终目的是为人类服务, 因此人工智能技术应该以人类的利益和需求为中心, 以解决人类面临的实际问题。 人工智能技术的应用需要深入了解人类社会的需要和价值, 将其应用到真正有意义的领域中。\n"
     ]
    }
   ],
   "source": [
    "import openai\n",
    "audio_file= open(\"../data/audios/test.m4a\", \"rb\")\n",
    "transcript = openai.Audio.transcribe(\"whisper-1\", audio_file,\n",
    "                                     prompt=\"大家好，欢迎收听 Mira Murati 的理念与影响的讲座。\")\n",
    "print(transcript[\"text\"])"
   ]
  },
  {
   "attachments": {},
   "cell_type": "markdown",
   "metadata": {},
   "source": [
    "## 更长的输入\n",
    "\n",
    "默认情况下，Whisper API 仅支持小于 25 MB 的文件。如果您有比这更长的音频文件，则需要将其分成 25 MB 或更小的块或使用压缩音频格式。为了获得最佳性能，我们建议您避免在句子中间打断音频，因为这可能会导致某些上下文丢失。\n",
    "\n",
    "一种处理方法是使用 [PyDub](https://github.com/jiaaro/pydub) 开源 Python 包来分割音频："
   ]
  },
  {
   "cell_type": "code",
   "execution_count": 10,
   "metadata": {},
   "outputs": [
    {
     "name": "stdout",
     "output_type": "stream",
     "text": [
      "Looking in indexes: https://pypi.tuna.tsinghua.edu.cn/simple\n",
      "Collecting pydub\n",
      "  Downloading https://pypi.tuna.tsinghua.edu.cn/packages/a6/53/d78dc063216e62fc55f6b2eebb447f6a4b0a59f55c8406376f76bf959b08/pydub-0.25.1-py2.py3-none-any.whl (32 kB)\n",
      "Installing collected packages: pydub\n",
      "Successfully installed pydub-0.25.1\n"
     ]
    }
   ],
   "source": [
    "!pip install pydub"
   ]
  },
  {
   "attachments": {},
   "cell_type": "markdown",
   "metadata": {},
   "source": [
    "### 手动分割测试"
   ]
  },
  {
   "cell_type": "code",
   "execution_count": 25,
   "metadata": {},
   "outputs": [
    {
     "data": {
      "text/plain": [
       "<_io.BufferedRandom name='tmp/test2.mp3'>"
      ]
     },
     "execution_count": 25,
     "metadata": {},
     "output_type": "execute_result"
    }
   ],
   "source": [
    "from pydub import AudioSegment\n",
    "\n",
    "audio = AudioSegment.from_file(\"../data/audios/test.m4a\")\n",
    "\n",
    "# PyDub handles time in milliseconds\n",
    "thirty_seconds = 30 * 1000\n",
    "\n",
    "first_30_seconds = audio[:thirty_seconds]\n",
    "first_30_seconds.export(\"../tmp/test1.mp3\", format=\"mp3\")\n",
    "\n",
    "last_seconds = audio[thirty_seconds:]\n",
    "last_seconds.export(\"../tmp/test2.mp3\", format=\"mp3\")"
   ]
  },
  {
   "cell_type": "code",
   "execution_count": 26,
   "metadata": {},
   "outputs": [
    {
     "name": "stdout",
     "output_type": "stream",
     "text": [
      "Mira Murati 是一位对人工智能技术充满热情的科技领袖。 她的理念和影响对人工智能技术的发展和应用产生了深远的影响。 她认为人工智能技术应该是以人为本的, 强调人工智能技术应该是一种能够服务于人类的工具, 而不是一种工具。\n",
      "人工智能技术不是取代人类的工具。 他指出,人工智能技术的最终目的是为人类服务, 因此人工智能技术应该以人类的利益和需求为中心, 以解决人类面临的实际问题。 人工智能技术应用需要深入了解人类社会的需要和价值, 将其应用到真正有意义的领域中。\n"
     ]
    }
   ],
   "source": [
    "import openai\n",
    "\n",
    "for file in [\"../tmp/test1.mp3\", \"tmp/test2.mp3\"]:\n",
    "    audio_file= open(file, \"rb\")\n",
    "    transcript = openai.Audio.transcribe(\"whisper-1\", audio_file,\n",
    "                                        prompt=\"大家好，欢迎收听 Mira Murati 的理念与影响的讲座。\")\n",
    "    print(transcript[\"text\"])"
   ]
  },
  {
   "attachments": {},
   "cell_type": "markdown",
   "metadata": {},
   "source": [
    "### 语音内容：\n",
    "Mira Murati 是一位对人工智能技术充满热情的科技领袖，她的理念和影响对人工智能技术的发展和应用产生了深远的影响。\n",
    "\n",
    "她认为人工智能技术应该是以人为本的，强调人工智能技术应该是一种能够服务于人类的工具，而不是取代人类的工具。\n",
    "\n",
    "她指出，人工智能技术的最终目的是为人类服务，因此人工智能技术应该以人类的利益和需求为中心，以解决人类面临的实际问题。人工智能技术的应用需要深入了解人类社会的需要和价值，将其应用到真正有意义的领域中。"
   ]
  },
  {
   "attachments": {},
   "cell_type": "markdown",
   "metadata": {},
   "source": [
    "### 可以看出暴力分割，对于分割的句子是有影响的。\n",
    "接下来我们看看如何在标点符号处进行分割。"
   ]
  },
  {
   "attachments": {},
   "cell_type": "markdown",
   "metadata": {},
   "source": [
    "### 获得音频文件的长度"
   ]
  },
  {
   "cell_type": "code",
   "execution_count": 27,
   "metadata": {},
   "outputs": [
    {
     "data": {
      "text/plain": [
       "66.66666666666667"
      ]
     },
     "execution_count": 27,
     "metadata": {},
     "output_type": "execute_result"
    }
   ],
   "source": [
    "audio = AudioSegment.from_file(\"../data/audios/test.m4a\")\n",
    "audio.duration_seconds # 单位：秒"
   ]
  },
  {
   "cell_type": "code",
   "execution_count": 31,
   "metadata": {},
   "outputs": [
    {
     "data": {
      "text/plain": [
       "66667"
      ]
     },
     "execution_count": 31,
     "metadata": {},
     "output_type": "execute_result"
    }
   ],
   "source": [
    "len(audio) # 单位：毫秒"
   ]
  },
  {
   "attachments": {},
   "cell_type": "markdown",
   "metadata": {},
   "source": [
    "### 播放音频文件"
   ]
  },
  {
   "cell_type": "code",
   "execution_count": 28,
   "metadata": {},
   "outputs": [
    {
     "name": "stderr",
     "output_type": "stream",
     "text": [
      "Input #0, wav, from '/var/folders/gm/qdt4nkv91g3g3vb5kjtfqk2h0000gn/T/tmphym4uw6c.wav':\n",
      "  Duration: 00:01:06.67, bitrate: 768 kb/s\n",
      "  Stream #0:0: Audio: pcm_s16le ([1][0][0][0] / 0x0001), 48000 Hz, 1 channels, s16, 768 kb/s\n",
      "  66.60 M-A:  0.000 fd=   0 aq=    0KB vq=    0KB sq=    0B f=0/0   \r"
     ]
    },
    {
     "name": "stdout",
     "output_type": "stream",
     "text": [
      "\n"
     ]
    }
   ],
   "source": [
    "from pydub.playback import play\n",
    "play(audio)"
   ]
  },
  {
   "attachments": {},
   "cell_type": "markdown",
   "metadata": {},
   "source": [
    "### 自动分割测试"
   ]
  },
  {
   "cell_type": "code",
   "execution_count": 70,
   "metadata": {},
   "outputs": [
    {
     "name": "stdout",
     "output_type": "stream",
     "text": [
      "😍 大家好，欢迎收听 Mira Murati 的理念与影响的讲座。\n",
      "Mira Murati 是一位对人工智能技术充满热情的科技领袖。 她的理念和影响对人工智能技术的发展和应用产生了深远的影响。 她认为人工智能技术应该是以人为本的。\n",
      "😍 Mira Murati 是一位对人工智能技术充满热情的科技领袖。 她的理念和影响对人工智能技术的发展和应用产生了深远的影响。 她认为人工智能技术应该是以人为本的。\n",
      "她强调人工智能技术应该是一种能够服务于人类的工具,而不是取代人类的工具。 她指出,人工智能技术的最终目的是为人类服务,因此人工智能技术应该以人类的利益和需求为中心。\n",
      "😍 她强调人工智能技术应该是一种能够服务于人类的工具,而不是取代人类的工具。 她指出,人工智能技术的最终目的是为人类服务,因此人工智能技术应该以人类的利益和需求为中心。\n",
      "以解决人类面临的实际问题。 人工智能技术的应用需要深入了解人类社会的需要和价值, 将其应用到真正有意义的领域中。\n"
     ]
    }
   ],
   "source": [
    "import os\n",
    "import shutil\n",
    "from pydub import AudioSegment, silence\n",
    "\n",
    "def audio_transcribe(file, prompt):\n",
    "    audio_file= open(file, \"rb\")\n",
    "    transcript = openai.Audio.transcribe(\"whisper-1\", audio_file, prompt=prompt)\n",
    "    return transcript[\"text\"]\n",
    "\n",
    "def detect_first_silent(audio, start_time, time_step=10, min_silence_len=500, silence_thresh=-40):\n",
    "    slice_audio = audio[start_time:start_time+time_step*1000]\n",
    "    silents = silence.detect_silence(slice_audio, min_silence_len=min_silence_len, silence_thresh=silence_thresh)\n",
    "    if len(silents):\n",
    "        return (start_time+silents[0][0], start_time+silents[0][1])\n",
    "    return (start_time, start_time)\n",
    "\n",
    "def split_audio_file(filename, interval_seconds, save_dir):\n",
    "    audio_files = []\n",
    "\n",
    "    name = os.path.splitext(os.path.basename(filename))[0]\n",
    "    audio = AudioSegment.from_file(filename)\n",
    "    audio_len = len(audio)\n",
    "    index = 1\n",
    "    start_time = 0\n",
    "    while start_time < audio_len:\n",
    "        end_time = start_time + interval_seconds*1000\n",
    "        if end_time > audio_len:\n",
    "            end_time = audio_len\n",
    "\n",
    "        silent_start_time, slient_end_time = detect_first_silent(audio, end_time)\n",
    "        end_time = silent_start_time\n",
    "        \n",
    "        audio_file = os.path.join(save_dir, f\"{name}{index}.mp3\")\n",
    "        audio[start_time:end_time].export(audio_file, format=\"mp3\")\n",
    "        audio_files.append(audio_file)\n",
    "\n",
    "        start_time = slient_end_time\n",
    "        index += 1\n",
    "\n",
    "    return audio_files\n",
    "\n",
    "def transcribe_audio_files(audio_files, prompt, prompt_len=100):\n",
    "    text_files = []\n",
    "    for audio_file in audio_files:\n",
    "        print(\"😍\", prompt)\n",
    "        text = audio_transcribe(audio_file, prompt)\n",
    "        print(text)\n",
    "\n",
    "        text_file = os.path.splitext(audio_file)[0]+\".txt\"\n",
    "        with open(text_file, \"a\") as f:\n",
    "            f.write(text)\n",
    "        text_files.append(text_file)\n",
    "\n",
    "        prompt = text[-prompt_len:] if len(text) > prompt_len else text\n",
    "\n",
    "    return text_files\n",
    "\n",
    "def merge_text_files(text_files, output_file):\n",
    "    with open(output_file, \"a\") as f:\n",
    "        for text_file in text_files:\n",
    "            with open(text_file, \"r\") as f_text:\n",
    "                f.write(f_text.read())\n",
    "\n",
    "save_dir = \"../tmp\"\n",
    "\n",
    "shutil.rmtree(save_dir)\n",
    "os.mkdir(save_dir)\n",
    "\n",
    "filename = \"../data/audios/test.m4a\"\n",
    "audio_files = split_audio_file(filename, 20, save_dir)\n",
    "\n",
    "prompt = \"大家好，欢迎收听 Mira Murati 的理念与影响的讲座。\"\n",
    "text_files = transcribe_audio_files(audio_files, prompt)\n",
    "\n",
    "text_file = os.path.join(save_dir, \"test.txt\")\n",
    "merge_text_files(text_files, text_file)"
   ]
  },
  {
   "attachments": {},
   "cell_type": "markdown",
   "metadata": {},
   "source": [
    "## 本地 Whisper"
   ]
  },
  {
   "cell_type": "code",
   "execution_count": null,
   "metadata": {},
   "outputs": [],
   "source": [
    "!pip install -U openai-whisper"
   ]
  },
  {
   "cell_type": "code",
   "execution_count": 81,
   "metadata": {},
   "outputs": [
    {
     "name": "stdout",
     "output_type": "stream",
     "text": [
      "😍 大家好，欢迎收听 Mira Murati 的理念与影响的讲座。\n"
     ]
    },
    {
     "name": "stderr",
     "output_type": "stream",
     "text": [
      "/opt/miniconda/envs/ai-large-models/lib/python3.10/site-packages/whisper/transcribe.py:114: UserWarning: FP16 is not supported on CPU; using FP32 instead\n",
      "  warnings.warn(\"FP16 is not supported on CPU; using FP32 instead\")\n"
     ]
    },
    {
     "name": "stdout",
     "output_type": "stream",
     "text": [
      "Mira Murati 是一位对人工智能技术充满热情的科技领袖。她的理念和影响对人工智能技术的发展和应用产生了深远的影响。她认为人工智能技术应该是以人为本的。\n",
      "😍 Mira Murati 是一位对人工智能技术充满热情的科技领袖。她的理念和影响对人工智能技术的发展和应用产生了深远的影响。她认为人工智能技术应该是以人为本的。\n"
     ]
    },
    {
     "name": "stderr",
     "output_type": "stream",
     "text": [
      "/opt/miniconda/envs/ai-large-models/lib/python3.10/site-packages/whisper/transcribe.py:114: UserWarning: FP16 is not supported on CPU; using FP32 instead\n",
      "  warnings.warn(\"FP16 is not supported on CPU; using FP32 instead\")\n"
     ]
    },
    {
     "name": "stdout",
     "output_type": "stream",
     "text": [
      "她强调人工智能技术应该是一种能够服务于人类的工具,而不是取代人类的工具。她指出,人工智能技术的最终目的是为人类服务,因此人工智能技术应该以人类的利益和需求为中心。\n",
      "😍 她强调人工智能技术应该是一种能够服务于人类的工具,而不是取代人类的工具。她指出,人工智能技术的最终目的是为人类服务,因此人工智能技术应该以人类的利益和需求为中心。\n"
     ]
    },
    {
     "name": "stderr",
     "output_type": "stream",
     "text": [
      "/opt/miniconda/envs/ai-large-models/lib/python3.10/site-packages/whisper/transcribe.py:114: UserWarning: FP16 is not supported on CPU; using FP32 instead\n",
      "  warnings.warn(\"FP16 is not supported on CPU; using FP32 instead\")\n"
     ]
    },
    {
     "name": "stdout",
     "output_type": "stream",
     "text": [
      "以解决人类面临的实际问题。人工智能技术的应用需要深入了解人类社会的需要和价值,将其应用到真正有意义的领域中。\n"
     ]
    }
   ],
   "source": [
    "import os\n",
    "import shutil\n",
    "import whisper\n",
    "from pydub import AudioSegment, silence\n",
    "\n",
    "\n",
    "def audio_transcribe_with_openai(whisper_service, file, prompt):\n",
    "    audio_file= open(file, \"rb\")\n",
    "    transcript = whisper_service.transcribe(\"whisper-1\", audio_file, prompt=prompt)\n",
    "    return transcript[\"text\"]\n",
    "\n",
    "def audio_transcribe_with_local(whisper_service, file, prompt):\n",
    "    transcript = whisper_service.transcribe(file, initial_prompt=prompt)\n",
    "    return transcript[\"text\"]\n",
    "\n",
    "def detect_first_silent(audio, start_time, time_step=10, min_silence_len=500, silence_thresh=-40):\n",
    "    slice_audio = audio[start_time:start_time+time_step*1000]\n",
    "    silents = silence.detect_silence(slice_audio, min_silence_len=min_silence_len, silence_thresh=silence_thresh)\n",
    "    if len(silents):\n",
    "        return (start_time+silents[0][0], start_time+silents[0][1])\n",
    "    return (start_time, start_time)\n",
    "\n",
    "def split_audio_file(filename, interval_seconds, save_dir):\n",
    "    audio_files = []\n",
    "\n",
    "    name = os.path.splitext(os.path.basename(filename))[0]\n",
    "    audio = AudioSegment.from_file(filename)\n",
    "    audio_len = len(audio)\n",
    "    index = 1\n",
    "    start_time = 0\n",
    "    while start_time < audio_len:\n",
    "        end_time = start_time + interval_seconds*1000\n",
    "        if end_time > audio_len:\n",
    "            end_time = audio_len\n",
    "\n",
    "        silent_start_time, slient_end_time = detect_first_silent(audio, end_time)\n",
    "        end_time = silent_start_time\n",
    "        \n",
    "        audio_file = os.path.join(save_dir, f\"{name}{index}.mp3\")\n",
    "        audio[start_time:end_time].export(audio_file, format=\"mp3\")\n",
    "        audio_files.append(audio_file)\n",
    "\n",
    "        start_time = slient_end_time\n",
    "        index += 1\n",
    "\n",
    "    return audio_files\n",
    "\n",
    "def transcribe_audio_files(audio_transcribe, whisper_service, audio_files, prompt, prompt_len=100):\n",
    "    text_files = []\n",
    "    for audio_file in audio_files:\n",
    "        print(\"😍\", prompt)\n",
    "        text = audio_transcribe(whisper_service, audio_file, prompt)\n",
    "        print(text)\n",
    "\n",
    "        text_file = os.path.splitext(audio_file)[0]+\".txt\"\n",
    "        with open(text_file, \"a\") as f:\n",
    "            f.write(text)\n",
    "        text_files.append(text_file)\n",
    "\n",
    "        prompt = text[-prompt_len:] if len(text) > prompt_len else text\n",
    "\n",
    "    return text_files\n",
    "\n",
    "def merge_text_files(text_files, output_file):\n",
    "    with open(output_file, \"a\") as f:\n",
    "        for text_file in text_files:\n",
    "            with open(text_file, \"r\") as f_text:\n",
    "                f.write(f_text.read())\n",
    "\n",
    "save_dir = \"../tmp\"\n",
    "\n",
    "shutil.rmtree(save_dir)\n",
    "os.mkdir(save_dir)\n",
    "\n",
    "filename = \"../data/audios/test.m4a\"\n",
    "audio_files = split_audio_file(filename, 20, save_dir)\n",
    "\n",
    "model = whisper.load_model(\"large\")\n",
    "whisper_handlers = [(audio_transcribe_with_local, model),\n",
    "                    (audio_transcribe_with_openai, openai.Audio)]\n",
    "\n",
    "prompt = \"大家好，欢迎收听 Mira Murati 的理念与影响的讲座。\"\n",
    "text_files = transcribe_audio_files(*whisper_handlers[0], audio_files, prompt)\n",
    "\n",
    "text_file = os.path.join(save_dir, \"test.txt\")\n",
    "merge_text_files(text_files, text_file)"
   ]
  },
  {
   "cell_type": "code",
   "execution_count": 82,
   "metadata": {},
   "outputs": [
    {
     "name": "stdout",
     "output_type": "stream",
     "text": [
      "😍 大家好，欢迎收听 Mira Murati 的理念与影响的讲座。\n",
      "Mira Murati 是一位对人工智能技术充满热情的科技领袖。 她的理念和影响对人工智能技术的发展和应用产生了深远的影响。 她认为人工智能技术应该是以人为本的。\n",
      "😍 Mira Murati 是一位对人工智能技术充满热情的科技领袖。 她的理念和影响对人工智能技术的发展和应用产生了深远的影响。 她认为人工智能技术应该是以人为本的。\n",
      "她强调人工智能技术应该是一种能够服务于人类的工具,而不是取代人类的工具。 她指出,人工智能技术的最终目的是为人类服务,因此人工智能技术应该以人类的利益和需求为中心。\n",
      "😍 她强调人工智能技术应该是一种能够服务于人类的工具,而不是取代人类的工具。 她指出,人工智能技术的最终目的是为人类服务,因此人工智能技术应该以人类的利益和需求为中心。\n",
      "以解决人类面临的实际问题。 人工智能技术的应用需要深入了解人类社会的需要和价值, 将其应用到真正有意义的领域中。\n"
     ]
    }
   ],
   "source": [
    "prompt = \"大家好，欢迎收听 Mira Murati 的理念与影响的讲座。\"\n",
    "text_files = transcribe_audio_files(*whisper_handlers[1], audio_files, prompt)\n",
    "\n",
    "text_file = os.path.join(save_dir, \"test.txt\")\n",
    "merge_text_files(text_files, text_file)"
   ]
  }
 ],
 "metadata": {
  "kernelspec": {
   "display_name": "ai-large-models",
   "language": "python",
   "name": "python3"
  },
  "language_info": {
   "codemirror_mode": {
    "name": "ipython",
    "version": 3
   },
   "file_extension": ".py",
   "mimetype": "text/x-python",
   "name": "python",
   "nbconvert_exporter": "python",
   "pygments_lexer": "ipython3",
   "version": "3.10.9"
  },
  "orig_nbformat": 4
 },
 "nbformat": 4,
 "nbformat_minor": 2
}
